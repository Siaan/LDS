{
 "cells": [
  {
   "cell_type": "code",
   "execution_count": 15,
   "metadata": {},
   "outputs": [
    {
     "data": {
      "text/plain": [
       "'\\ndef preprocess(measured_var, covar, process_model, white_noise_var, dt, sensor_covar, senor_measurement_function, B=0, U=0):\\n   \\n\\n    :param measured_var: (n x 1 ) state variable vector - these can be the n observed vars or hidden vars (inferred from obs var)\\n           For example: (10,5)\\n    :param covar: (n x n) - diagonals are variance of each n var, off-diagonal = covar\\n           For example: (500,49) where 500 is the variance of state var 1 etc\\n    :param process_model: equations which describe the behaviour of the system in matrix from k to k+1\\n           For example: position\\' = 1 (position) + 1 (velocity* delta time)\\n                        velocity\\' = 0 (position) + 1 (velocity)\\n           Process_model [1  delta t\\n                          0    1    ]\\n    :param white_noise_var: (float)\\n    :param dt: time step (seconds)\\n    :param B: Input control matrix\\n    :param U: Control input\\n    :param num_sensors: number of sensors used for measurements (int)\\n    :param sensor_covar: variance of sensors\\n           For example: (5,3)\\n    :param senor_measurement_function: (senor1 weight, senor2 weight, senor3 we...)\\n           For example: (1,0,0)\\n    :return: All variables needed for Kalman Filter predict + update\\n    \\n    \\n    X = np.array(measured_var)\\n    P = np.diag(covar)\\n    A = np.array(process_model)\\n    Q = Q_discrete_white_noise(dim=2, dt=dt, var=white_noise_var) #dim = shape of X?\\n    B = B\\n    U = U\\n    #Z = num_sensors\\n    R = np.array([[sensor_covar]])\\n    H = np.array([senor_measurement_function])\\n    return (X, P, A, Q, B, U, R, H)\\n\\n\\ndef kal_predict(X,P,A,Q,B,U):\\n\\n\\n    :param X: (n x 1 ) state variable vector\\n    :param P: (n x n) state covariance\\n    :param A: transition matrix\\n    :param Q: process noise covariance matrix\\n    :param B: input effect matrix\\n    :param U: control input\\n    :return: (X,P)\\n\\n    This function predicts the mean X and covar P of the system state at the time step k\\n\\n\\n    X = dot(A,X) + dot(B,U)\\n    P = dot(A, dot(P, A.T)) + Q\\n    return (X,P)\\n\\ndef kal_update(zedd, X, P, H, R):\\n\\n\\n    :param X: state variable vector\\n    :param P: state covariance\\n    :param Z: number of sensors.\\n              For example: if only the position is measured then Z = 1\\n    :param H: measurement function\\n    :param R: (m x m) measurement noise matrix for m sensors\\n    :return: (xs, cv)\\n\\n    S = R + dot(H, dot(P, H.T))\\n    #K = dot(P, dot(H.T, inv(S)))\\n\\n\\n    K = dot(P, H.T).dot(inv(S))\\n    Y = zedd - dot(H,X) #measurement function\\n    X += dot(K, Y)\\n    P = P - dot(K, dot(S, K.T))\\n\\n    prod_HX = dot(H, X)\\n\\n\\n    #lk = gauss_pdf(zedd, prod_HX, S)\\n\\n    return (X, P, K, prod_HX, S)\\n    #return X,P\\n\\ndef gauss_pdf(A, M, S):\\n    if M.shape()[1] == 1:\\n        DX = A - np.tile(M, A.shape()[1])\\n        E = 0.5 * sum(DX * (dot(inv(S), DX)), axis=0)\\n        E = E + 0.5 * M.shape()[0] * math.log(2*math.pi) + 0.5 * math.log(det(S))\\n        P = math.exp(-E)\\n    elif A.shape()[1] == 1:\\n        DX = np.tile(A, M.shape()[1]) - M\\n        E = 0.5 * sum(DX * (dot(inv(S), DX)), axis = 0)\\n        E = E + 0.5 * M.shape()[0] * math.log(2*math.pi) + 0.5 * math.log(det(S))\\n        P = math.exp(-E)\\n\\n    else:\\n        DX = A-M\\n        E = 0.5 * dot(DX.T, dot(inv(S), DX))\\n        E = E + 0.5 * M.shape()[0] * math.log(2*math.pi) + 0.5 * math.log(det(S))\\n        P = math.exp(-E)\\n\\n    return (P[0], E[0])\\n\\n\\ndef run_kf(zedd, measured_var, covar, process_model, white_noise_var, dt, sensor_covar, measurement_function, B=0, U=0):\\n    xs, cv = [], []\\n    (X, P, A, Q, B, U, R, H) = preprocess(measured_var, covar, process_model, white_noise_var, dt, sensor_covar, measurement_function, B=0, U=0)\\n    for i in zedd:\\n        (X,P) = kal_predict(X, P, A, Q, B, U)\\n        (X, P, K, prod_HX, S) = kal_update(i, X, P, H, R)\\n        xs.append(X)\\n        cv.append(P)\\n    xs, cv = np.array(xs), np.array(cv)\\n    return xs,cv\\n\\n\\nxs, cv = run_kf(zedd = zedd, measured_var=(10,4.5), covar=(500,49), process_model=((1, 0.1), (0, 1)), white_noise_var=.35, dt=.1, sensor_covar=5, measurement_function=(1,0))\\n\\nprint(\"COV\")\\nprint(cv)\\n#print(xs[:, 0])\\n\\nprint(\"X 2\")\\nprint(xs[:, 1])\\nprint(\"COV\")\\nprint(cv)\\n\\n\\nprint(zedd)\\nplt.plot(range(1, len(zedd)+1), xs[:, 0], c =\\'r\\')\\nplt.plot(range(1, len(zedd)+1), zedd, c = \\'green\\')\\nplt.show()\\n'"
      ]
     },
     "execution_count": 15,
     "metadata": {},
     "output_type": "execute_result"
    }
   ],
   "source": [
    "#imports\n",
    "import numpy as np\n",
    "import math\n",
    "\n",
    "from filterpy.common import Q_discrete_white_noise\n",
    "from numpy import dot, sum, tile\n",
    "from scipy.linalg import inv, det\n",
    "from numpy.random import randn\n",
    "import matplotlib.pyplot as plt\n",
    "\n",
    "\n",
    "def compute_data(z_var, process_var, count=1, dt=1.):\n",
    "    \"returns track, measurements 1D ndarrays\"\n",
    "    x, vel = 0., 1.\n",
    "    z_std = math.sqrt(z_var)\n",
    "    p_std = math.sqrt(process_var)\n",
    "    xs, zs = [], []\n",
    "    for _ in range(count):\n",
    "        v = vel + (randn() * p_std)\n",
    "        x += v*dt\n",
    "        xs.append(x)\n",
    "        zs.append(x + randn() * z_std)\n",
    "    return np.array(xs), np.array(zs)\n",
    "\n",
    "track, zedd = compute_data(2.45, 2.45, 50)\n",
    "\n",
    "'''\n",
    "def preprocess(measured_var, covar, process_model, white_noise_var, dt, sensor_covar, senor_measurement_function, B=0, U=0):\n",
    "   \n",
    "\n",
    "    :param measured_var: (n x 1 ) state variable vector - these can be the n observed vars or hidden vars (inferred from obs var)\n",
    "           For example: (10,5)\n",
    "    :param covar: (n x n) - diagonals are variance of each n var, off-diagonal = covar\n",
    "           For example: (500,49) where 500 is the variance of state var 1 etc\n",
    "    :param process_model: equations which describe the behaviour of the system in matrix from k to k+1\n",
    "           For example: position' = 1 (position) + 1 (velocity* delta time)\n",
    "                        velocity' = 0 (position) + 1 (velocity)\n",
    "           Process_model [1  delta t\n",
    "                          0    1    ]\n",
    "    :param white_noise_var: (float)\n",
    "    :param dt: time step (seconds)\n",
    "    :param B: Input control matrix\n",
    "    :param U: Control input\n",
    "    :param num_sensors: number of sensors used for measurements (int)\n",
    "    :param sensor_covar: variance of sensors\n",
    "           For example: (5,3)\n",
    "    :param senor_measurement_function: (senor1 weight, senor2 weight, senor3 we...)\n",
    "           For example: (1,0,0)\n",
    "    :return: All variables needed for Kalman Filter predict + update\n",
    "    \n",
    "    \n",
    "    X = np.array(measured_var)\n",
    "    P = np.diag(covar)\n",
    "    A = np.array(process_model)\n",
    "    Q = Q_discrete_white_noise(dim=2, dt=dt, var=white_noise_var) #dim = shape of X?\n",
    "    B = B\n",
    "    U = U\n",
    "    #Z = num_sensors\n",
    "    R = np.array([[sensor_covar]])\n",
    "    H = np.array([senor_measurement_function])\n",
    "    return (X, P, A, Q, B, U, R, H)\n",
    "\n",
    "\n",
    "def kal_predict(X,P,A,Q,B,U):\n",
    "\n",
    "\n",
    "    :param X: (n x 1 ) state variable vector\n",
    "    :param P: (n x n) state covariance\n",
    "    :param A: transition matrix\n",
    "    :param Q: process noise covariance matrix\n",
    "    :param B: input effect matrix\n",
    "    :param U: control input\n",
    "    :return: (X,P)\n",
    "\n",
    "    This function predicts the mean X and covar P of the system state at the time step k\n",
    "\n",
    "\n",
    "    X = dot(A,X) + dot(B,U)\n",
    "    P = dot(A, dot(P, A.T)) + Q\n",
    "    return (X,P)\n",
    "\n",
    "def kal_update(zedd, X, P, H, R):\n",
    "\n",
    "\n",
    "    :param X: state variable vector\n",
    "    :param P: state covariance\n",
    "    :param Z: number of sensors.\n",
    "              For example: if only the position is measured then Z = 1\n",
    "    :param H: measurement function\n",
    "    :param R: (m x m) measurement noise matrix for m sensors\n",
    "    :return: (xs, cv)\n",
    "\n",
    "    S = R + dot(H, dot(P, H.T))\n",
    "    #K = dot(P, dot(H.T, inv(S)))\n",
    "\n",
    "\n",
    "    K = dot(P, H.T).dot(inv(S))\n",
    "    Y = zedd - dot(H,X) #measurement function\n",
    "    X += dot(K, Y)\n",
    "    P = P - dot(K, dot(S, K.T))\n",
    "\n",
    "    prod_HX = dot(H, X)\n",
    "\n",
    "\n",
    "    #lk = gauss_pdf(zedd, prod_HX, S)\n",
    "\n",
    "    return (X, P, K, prod_HX, S)\n",
    "    #return X,P\n",
    "\n",
    "def gauss_pdf(A, M, S):\n",
    "    if M.shape()[1] == 1:\n",
    "        DX = A - np.tile(M, A.shape()[1])\n",
    "        E = 0.5 * sum(DX * (dot(inv(S), DX)), axis=0)\n",
    "        E = E + 0.5 * M.shape()[0] * math.log(2*math.pi) + 0.5 * math.log(det(S))\n",
    "        P = math.exp(-E)\n",
    "    elif A.shape()[1] == 1:\n",
    "        DX = np.tile(A, M.shape()[1]) - M\n",
    "        E = 0.5 * sum(DX * (dot(inv(S), DX)), axis = 0)\n",
    "        E = E + 0.5 * M.shape()[0] * math.log(2*math.pi) + 0.5 * math.log(det(S))\n",
    "        P = math.exp(-E)\n",
    "\n",
    "    else:\n",
    "        DX = A-M\n",
    "        E = 0.5 * dot(DX.T, dot(inv(S), DX))\n",
    "        E = E + 0.5 * M.shape()[0] * math.log(2*math.pi) + 0.5 * math.log(det(S))\n",
    "        P = math.exp(-E)\n",
    "\n",
    "    return (P[0], E[0])\n",
    "\n",
    "\n",
    "def run_kf(zedd, measured_var, covar, process_model, white_noise_var, dt, sensor_covar, measurement_function, B=0, U=0):\n",
    "    xs, cv = [], []\n",
    "    (X, P, A, Q, B, U, R, H) = preprocess(measured_var, covar, process_model, white_noise_var, dt, sensor_covar, measurement_function, B=0, U=0)\n",
    "    for i in zedd:\n",
    "        (X,P) = kal_predict(X, P, A, Q, B, U)\n",
    "        (X, P, K, prod_HX, S) = kal_update(i, X, P, H, R)\n",
    "        xs.append(X)\n",
    "        cv.append(P)\n",
    "    xs, cv = np.array(xs), np.array(cv)\n",
    "    return xs,cv\n",
    "\n",
    "\n",
    "xs, cv = run_kf(zedd = zedd, measured_var=(10,4.5), covar=(500,49), process_model=((1, 0.1), (0, 1)), white_noise_var=.35, dt=.1, sensor_covar=5, measurement_function=(1,0))\n",
    "\n",
    "print(\"COV\")\n",
    "print(cv)\n",
    "#print(xs[:, 0])\n",
    "\n",
    "print(\"X 2\")\n",
    "print(xs[:, 1])\n",
    "print(\"COV\")\n",
    "print(cv)\n",
    "\n",
    "\n",
    "print(zedd)\n",
    "plt.plot(range(1, len(zedd)+1), xs[:, 0], c ='r')\n",
    "plt.plot(range(1, len(zedd)+1), zedd, c = 'green')\n",
    "plt.show()\n",
    "'''"
   ]
  },
  {
   "cell_type": "code",
   "execution_count": 17,
   "metadata": {},
   "outputs": [],
   "source": [
    "def compute_data(z_var, process_var, count=1, dt=1.):\n",
    "    \"returns track, measurements 1D ndarrays\"\n",
    "    x, vel = 0., 1.\n",
    "    z_std = math.sqrt(z_var)\n",
    "    p_std = math.sqrt(process_var)\n",
    "    xs, zs = [], []\n",
    "    for _ in range(count):\n",
    "        v = vel + (randn() * p_std)\n",
    "        x += v*dt\n",
    "        xs.append(x)\n",
    "        zs.append(x + randn() * z_std)\n",
    "    return np.array(xs), np.array(zs)\n",
    "\n",
    "track, zedd = compute_data(2.45, 4.45, 50)"
   ]
  },
  {
   "cell_type": "code",
   "execution_count": 18,
   "metadata": {},
   "outputs": [
    {
     "data": {
      "text/plain": [
       "[<matplotlib.lines.Line2D at 0x11d35b630>]"
      ]
     },
     "execution_count": 18,
     "metadata": {},
     "output_type": "execute_result"
    },
    {
     "data": {
      "image/png": "[encoded data removed]",
      "text/plain": [
       "<Figure size 432x288 with 1 Axes>"
      ]
     },
     "metadata": {},
     "output_type": "display_data"
    }
   ],
   "source": [
    "plt.plot(track)\n",
    "plt.plot(zedd)"
   ]
  },
  {
   "cell_type": "code",
   "execution_count": 79,
   "metadata": {},
   "outputs": [],
   "source": [
    "def preprocess(num_measured, measured_var, covar, process_model, white_noise_var, dt, sensor_covar, measurement_function, B=0, U=0):\n",
    "\n",
    "    dim_z = num_measured\n",
    "    X = np.array(measured_var)\n",
    "    P = np.diag(covar)\n",
    "    A = np.array(process_model)\n",
    "    Q = Q_discrete_white_noise(dim=X.shape[0], dt=dt, var=white_noise_var) #dim = shape of X?\n",
    "    B = B\n",
    "    U = U\n",
    "    R = np.array([[sensor_covar]])\n",
    "    H = np.array([measurement_function])\n",
    "    return (dim_z, X, P, A, Q, dt, R, H, B, U)"
   ]
  },
  {
   "cell_type": "code",
   "execution_count": 81,
   "metadata": {},
   "outputs": [],
   "source": [
    "dim_z, X, P, A, Q, dt, R, H, B, U = preprocess(num_measured=1, measured_var=(10,4.5), covar=(500,49), \n",
    "                process_model=((1, 1), (0, 1)), white_noise_var=.35, dt=1, \n",
    "                sensor_covar=5, measurement_function=(1,0))"
   ]
  },
  {
   "cell_type": "code",
   "execution_count": 30,
   "metadata": {},
   "outputs": [
    {
     "data": {
      "text/plain": [
       "2"
      ]
     },
     "execution_count": 30,
     "metadata": {},
     "output_type": "execute_result"
    }
   ],
   "source": []
  },
  {
   "cell_type": "code",
   "execution_count": null,
   "metadata": {},
   "outputs": [],
   "source": []
  },
  {
   "cell_type": "code",
   "execution_count": null,
   "metadata": {},
   "outputs": [],
   "source": []
  },
  {
   "cell_type": "code",
   "execution_count": null,
   "metadata": {},
   "outputs": [],
   "source": [
    "zedd = zedd, measured_var=(10,4.5), covar=(500,49), \n",
    "                process_model=((1, 0.1), (0, 1)), white_noise_var=.35, dt=.1, \n",
    "                sensor_covar=5, measurement_function=(1,0)"
   ]
  },
  {
   "cell_type": "code",
   "execution_count": null,
   "metadata": {},
   "outputs": [],
   "source": []
  },
  {
   "cell_type": "code",
   "execution_count": null,
   "metadata": {},
   "outputs": [],
   "source": []
  },
  {
   "cell_type": "code",
   "execution_count": null,
   "metadata": {},
   "outputs": [],
   "source": []
  },
  {
   "cell_type": "code",
   "execution_count": null,
   "metadata": {},
   "outputs": [],
   "source": []
  },
  {
   "cell_type": "code",
   "execution_count": null,
   "metadata": {},
   "outputs": [],
   "source": []
  },
  {
   "cell_type": "code",
   "execution_count": 12,
   "metadata": {},
   "outputs": [],
   "source": [
    "def kal_predict(X,P,A,Q,B,U):\n",
    "    '''\n",
    "\n",
    "    :param X: (n x 1 ) state variable vector\n",
    "    :param P: (n x n) state covariance\n",
    "    :param A: transition matrix\n",
    "    :param Q: process noise covariance matrix\n",
    "    :param B: input effect matrix\n",
    "    :param U: control input\n",
    "    :return: (X,P)\n",
    "\n",
    "    This function predicts the mean X and covar P of the system state at the time step k\n",
    "    '''\n",
    "\n",
    "    X = dot(A,X) + dot(B,U)\n",
    "    P = dot(A, dot(P, A.T)) + Q\n",
    "    return (X,P)"
   ]
  },
  {
   "cell_type": "code",
   "execution_count": 13,
   "metadata": {},
   "outputs": [],
   "source": [
    "def kal_update(zedd, X, P, H, R):\n",
    "    '''\n",
    "\n",
    "    :param X: state variable vector\n",
    "    :param P: state covariance\n",
    "    :param Z: number of sensors.\n",
    "              For example: if only the position is measured then Z = 1\n",
    "    :param H: measurement function\n",
    "    :param R: (m x m) measurement noise matrix for m sensors\n",
    "    :return: (xs, cv)\n",
    "    '''\n",
    "    S = R + dot(H, dot(P, H.T))\n",
    "    #K = dot(P, dot(H.T, inv(S)))\n",
    "\n",
    "\n",
    "    K = dot(P, H.T).dot(inv(S))\n",
    "    Y = zedd - dot(H,X) #measurement function\n",
    "    X += dot(K, Y)\n",
    "    P = P - dot(K, dot(S, K.T))\n",
    "\n",
    "    prod_HX = dot(H, X)\n",
    "\n",
    "\n",
    "    #lk = gauss_pdf(zedd, prod_HX, S)\n",
    "\n",
    "    return (X, P, K, prod_HX, S)\n",
    "    #return X,P"
   ]
  },
  {
   "cell_type": "code",
   "execution_count": 32,
   "metadata": {},
   "outputs": [],
   "source": [
    "def run_kf(zedd, measured_var, covar, process_model, white_noise_var, dt, sensor_covar, measurement_function):\n",
    "    xs, cv = [], []\n",
    "    (X, P, A, Q, B, U, R, H) = preprocess(measured_var, covar, process_model, white_noise_var, dt, sensor_covar, measurement_function)\n",
    "    for i in zedd:\n",
    "        (X,P) = kal_predict(X, P, A, Q, B, U)\n",
    "        (X, P, K, prod_HX, S) = kal_update(i, X, P, H, R)\n",
    "        xs.append(X)\n",
    "        cv.append(P)\n",
    "    xs, cv = np.array(xs), np.array(cv)\n",
    "    return xs,cv\n",
    "\n"
   ]
  },
  {
   "cell_type": "code",
   "execution_count": 33,
   "metadata": {},
   "outputs": [],
   "source": [
    "xs, cv = run_kf(zedd = zedd, measured_var=(10,4.5), covar=(500,49), \n",
    "                process_model=((1, 1), (0, 1)), white_noise_var=.35, dt=1, \n",
    "                sensor_covar=5, measurement_function=(1,0))"
   ]
  },
  {
   "cell_type": "code",
   "execution_count": 36,
   "metadata": {},
   "outputs": [
    {
     "data": {
      "text/plain": [
       "array([ 5.03001419,  3.97812133,  7.61961646,  6.30899767,  6.6631695 ,\n",
       "        7.26504401,  6.10841409,  7.82742264,  9.40671411, 11.58029445,\n",
       "       12.80396738, 15.41135809, 17.96996796, 21.55718918, 21.28435386,\n",
       "       23.37248124, 26.54416711, 30.39383232, 33.45175051, 36.76075658,\n",
       "       37.69192966, 39.49748823, 40.46184093, 41.11834756, 43.39320499,\n",
       "       44.86823683, 46.98185768, 48.11021054, 49.9240985 , 52.46711698,\n",
       "       53.36362042, 54.86454802, 57.32198281, 59.08106694, 61.28622159,\n",
       "       59.87385806, 62.85457153, 61.64902509, 63.63596947, 63.39447114,\n",
       "       61.49008951, 61.04568154, 58.49159826, 57.15038755, 59.44884481,\n",
       "       60.21986978, 62.14457916, 62.56690477, 63.06142644, 65.82828564])"
      ]
     },
     "execution_count": 36,
     "metadata": {},
     "output_type": "execute_result"
    }
   ],
   "source": [
    "xs[:,0]"
   ]
  },
  {
   "cell_type": "code",
   "execution_count": 49,
   "metadata": {},
   "outputs": [
    {
     "data": {
      "text/plain": [
       "[<matplotlib.lines.Line2D at 0x121162208>]"
      ]
     },
     "execution_count": 49,
     "metadata": {},
     "output_type": "execute_result"
    },
    {
     "data": {
      "image/png": "[encoded data removed]",
      "text/plain": [
       "<Figure size 432x288 with 1 Axes>"
      ]
     },
     "metadata": {},
     "output_type": "display_data"
    }
   ],
   "source": [
    "plt.plot(range(1, len(zedd)+1), xs[:, 0], c ='r')\n",
    "#plt.plot(range(1, len(zedd)+1), zedd, 'o')\n",
    "plt.plot(range(1, len(zedd)+1), track, c='orange')"
   ]
  },
  {
   "cell_type": "code",
   "execution_count": null,
   "metadata": {},
   "outputs": [],
   "source": []
  },
  {
   "cell_type": "code",
   "execution_count": null,
   "metadata": {},
   "outputs": [],
   "source": []
  },
  {
   "cell_type": "code",
   "execution_count": null,
   "metadata": {},
   "outputs": [],
   "source": []
  },
  {
   "cell_type": "code",
   "execution_count": null,
   "metadata": {},
   "outputs": [],
   "source": [
    "\n",
    "print(\"COV\")\n",
    "print(cv)\n",
    "#print(xs[:, 0])\n",
    "'''\n",
    "print(\"X 2\")\n",
    "print(xs[:, 1])\n",
    "print(\"COV\")\n",
    "print(cv)\n",
    "'''\n",
    "\n",
    "print(zedd)\n",
    "plt.plot(range(1, len(zedd)+1), xs[:, 0], c ='r')\n",
    "plt.plot(range(1, len(zedd)+1), zedd, c = 'green')\n",
    "plt.show()"
   ]
  },
  {
   "cell_type": "code",
   "execution_count": null,
   "metadata": {},
   "outputs": [],
   "source": []
  },
  {
   "cell_type": "code",
   "execution_count": null,
   "metadata": {},
   "outputs": [],
   "source": []
  },
  {
   "cell_type": "code",
   "execution_count": null,
   "metadata": {},
   "outputs": [],
   "source": []
  },
  {
   "cell_type": "markdown",
   "metadata": {},
   "source": [
    "# Clean code"
   ]
  },
  {
   "cell_type": "code",
   "execution_count": 102,
   "metadata": {},
   "outputs": [],
   "source": [
    "from filterpy.kalman import KalmanFilter\n",
    "from filterpy.common import Q_discrete_white_noise"
   ]
  },
  {
   "cell_type": "code",
   "execution_count": 82,
   "metadata": {},
   "outputs": [],
   "source": [
    "dim_z, X, P, A, Q, dt, R, H, B, U = preprocess(num_measured=1, measured_var=(10,4.5), covar=(500,49), \n",
    "                process_model=((1, 1), (0, 1)), white_noise_var=.35, dt=1, \n",
    "                sensor_covar=5, measurement_function=(1,0))"
   ]
  },
  {
   "cell_type": "code",
   "execution_count": 44,
   "metadata": {
    "collapsed": true
   },
   "outputs": [
    {
     "data": {
      "text/plain": [
       "(array([ 5.17826975,  4.13359822,  6.26291903,  7.88551205,  5.7719496 ,\n",
       "         6.77402889,  6.80220287,  9.06228235, 11.59984666, 14.7380589 ,\n",
       "        13.59893827, 15.85816218, 18.65263663, 21.39186019, 19.12096889,\n",
       "        23.91196937, 27.20478119, 29.68862518, 31.80898836, 34.75555701,\n",
       "        34.25885855, 37.51897735, 41.24633427, 41.60072837, 43.91390944,\n",
       "        46.22723218, 48.12071592, 47.38332407, 50.36312145, 51.60984639,\n",
       "        53.49917907, 56.99983314, 58.24391637, 58.26829312, 61.1554886 ,\n",
       "        59.24732148, 60.59535227, 62.53842562, 62.02624316, 61.60353936,\n",
       "        60.40770142, 61.25001177, 56.94046222, 56.8578121 , 61.58311953,\n",
       "        61.59231417, 63.0180285 , 63.34610788, 63.82961109, 64.97660576]),\n",
       " array([ 4.94378034,  3.51620188,  8.62326185,  4.89791621,  6.58581016,\n",
       "         7.39735472,  4.6763106 ,  9.48334512, 10.36868813, 12.76178636,\n",
       "        12.66960148, 16.62709532, 18.7046467 , 22.99745861, 18.57432217,\n",
       "        23.85566287, 27.87513833, 31.88719468, 33.66491661, 37.13416309,\n",
       "        35.69183425, 39.03677324, 39.37358673, 40.12953217, 44.28269484,\n",
       "        44.68600343, 47.46637727, 47.49323902, 50.17367115, 53.31421207,\n",
       "        52.35659341, 54.78723901, 58.17335463, 58.96994366, 61.63505528,\n",
       "        56.69021263, 64.9483922 , 59.05018614, 64.97439167, 62.15478496,\n",
       "        59.12760555, 60.90387381, 56.41325133, 56.95827425, 62.75399391,\n",
       "        60.90347013, 63.67031133, 62.13143797, 62.84979667, 67.83289619]))"
      ]
     },
     "execution_count": 44,
     "metadata": {},
     "output_type": "execute_result"
    }
   ],
   "source": [
    "#Given data\n",
    "\n",
    "track, zedd"
   ]
  },
  {
   "cell_type": "code",
   "execution_count": 89,
   "metadata": {},
   "outputs": [
    {
     "data": {
      "text/plain": [
       "array([10. ,  4.5])"
      ]
     },
     "execution_count": 89,
     "metadata": {},
     "output_type": "execute_result"
    }
   ],
   "source": [
    "X"
   ]
  },
  {
   "cell_type": "code",
   "execution_count": 90,
   "metadata": {},
   "outputs": [],
   "source": [
    "def create_kf_and_assign_predict_update(dim_z, X, P, A, Q, dt, R, H, B, U):\n",
    "    kf = KalmanFilter(dim_x=X.shape[0], dim_z=dim_z)\n",
    "    kf.x = X\n",
    "    kf.P = P\n",
    "    kf.F = A\n",
    "    kf.Q = Q\n",
    "    kf.B = B\n",
    "    kf.U = U\n",
    "    kf.R = R\n",
    "    kf.H = H\n",
    "    return kf"
   ]
  },
  {
   "cell_type": "code",
   "execution_count": 91,
   "metadata": {},
   "outputs": [],
   "source": [
    "kf = create_kf_and_assign_predict_update(dim_z, X, P, A, Q, dt, R, H, B, U)"
   ]
  },
  {
   "cell_type": "code",
   "execution_count": 103,
   "metadata": {},
   "outputs": [
    {
     "data": {
      "text/plain": [
       "KalmanFilter object\n",
       "dim_x = 2\n",
       "dim_z = 1\n",
       "dim_u = 0\n",
       "x = [19.   4.5]\n",
       "P = [[696.875  98.7  ]\n",
       "     [ 98.7    49.7  ]]\n",
       "x_prior = [19.   4.5]\n",
       "P_prior = [[696.875  98.7  ]\n",
       "           [ 98.7    49.7  ]]\n",
       "x_post = [[0. 0.]].T\n",
       "P_post = [[1. 0.]\n",
       "          [0. 1.]]\n",
       "F = [[1 1]\n",
       "     [0 1]]\n",
       "Q = [[0.0875 0.175 ]\n",
       "     [0.175  0.35  ]]\n",
       "R = [[5]]\n",
       "H = [[1 0]]\n",
       "K = [[0. 0.]].T\n",
       "y = [[0.]]\n",
       "S = [[0.]]\n",
       "SI = [[0.]]\n",
       "M = [[0.]]\n",
       "B = 0\n",
       "z = [[None]]\n",
       "log-likelihood = -708.3964185322641\n",
       "likelihood = 2.2250738585072014e-308\n",
       "mahalanobis = 0.0\n",
       "alpha = 1.0\n",
       "inv = <function inv at 0x10f7ae2f0>"
      ]
     },
     "execution_count": 103,
     "metadata": {},
     "output_type": "execute_result"
    }
   ],
   "source": [
    "kf"
   ]
  },
  {
   "cell_type": "code",
   "execution_count": 106,
   "metadata": {},
   "outputs": [
    {
     "ename": "NameError",
     "evalue": "name 'dts' is not defined",
     "output_type": "error",
     "traceback": [
      "\u001b[0;31m---------------------------------------------------------------------------\u001b[0m",
      "\u001b[0;31mNameError\u001b[0m                                 Traceback (most recent call last)",
      "\u001b[0;32m<ipython-input-106-783de870c6a7>\u001b[0m in \u001b[0;36m<module>\u001b[0;34m()\u001b[0m\n\u001b[1;32m      1\u001b[0m \u001b[0;32mfrom\u001b[0m \u001b[0mnumpy\u001b[0m \u001b[0;32mimport\u001b[0m \u001b[0mrandom\u001b[0m\u001b[0;34m\u001b[0m\u001b[0;34m\u001b[0m\u001b[0m\n\u001b[1;32m      2\u001b[0m \u001b[0mzs\u001b[0m \u001b[0;34m=\u001b[0m \u001b[0;34m[\u001b[0m\u001b[0mt\u001b[0m \u001b[0;34m+\u001b[0m \u001b[0mrandom\u001b[0m\u001b[0;34m.\u001b[0m\u001b[0mrandn\u001b[0m\u001b[0;34m(\u001b[0m\u001b[0;34m)\u001b[0m\u001b[0;34m*\u001b[0m\u001b[0;36m4\u001b[0m \u001b[0;32mfor\u001b[0m \u001b[0mt\u001b[0m \u001b[0;32min\u001b[0m \u001b[0mrange\u001b[0m \u001b[0;34m(\u001b[0m\u001b[0;36m40\u001b[0m\u001b[0;34m)\u001b[0m\u001b[0;34m]\u001b[0m\u001b[0;34m\u001b[0m\u001b[0;34m\u001b[0m\u001b[0m\n\u001b[0;32m----> 3\u001b[0;31m \u001b[0mFs\u001b[0m \u001b[0;34m=\u001b[0m \u001b[0;34m[\u001b[0m\u001b[0mnp\u001b[0m\u001b[0;34m.\u001b[0m\u001b[0marray\u001b[0m\u001b[0;34m(\u001b[0m\u001b[0;34m[\u001b[0m\u001b[0;34m[\u001b[0m\u001b[0;36m1.\u001b[0m\u001b[0;34m,\u001b[0m \u001b[0mdt\u001b[0m\u001b[0;34m]\u001b[0m\u001b[0;34m,\u001b[0m \u001b[0;34m[\u001b[0m\u001b[0;36m0\u001b[0m\u001b[0;34m,\u001b[0m \u001b[0;36m1\u001b[0m\u001b[0;34m]\u001b[0m\u001b[0;34m]\u001b[0m\u001b[0;34m)\u001b[0m \u001b[0;32mfor\u001b[0m \u001b[0mdt\u001b[0m \u001b[0;32min\u001b[0m \u001b[0mdts\u001b[0m\u001b[0;34m]\u001b[0m\u001b[0;34m\u001b[0m\u001b[0;34m\u001b[0m\u001b[0m\n\u001b[0m\u001b[1;32m      4\u001b[0m \u001b[0;34m\u001b[0m\u001b[0m\n\u001b[1;32m      5\u001b[0m \u001b[0;34m(\u001b[0m\u001b[0mmu\u001b[0m\u001b[0;34m,\u001b[0m \u001b[0mcov\u001b[0m\u001b[0;34m,\u001b[0m \u001b[0m_\u001b[0m\u001b[0;34m,\u001b[0m \u001b[0m_\u001b[0m\u001b[0;34m)\u001b[0m \u001b[0;34m=\u001b[0m \u001b[0mkf\u001b[0m\u001b[0;34m.\u001b[0m\u001b[0mbatch_filter\u001b[0m\u001b[0;34m(\u001b[0m\u001b[0mzs\u001b[0m\u001b[0;34m,\u001b[0m \u001b[0mFs\u001b[0m\u001b[0;34m=\u001b[0m\u001b[0mFs\u001b[0m\u001b[0;34m)\u001b[0m\u001b[0;34m\u001b[0m\u001b[0;34m\u001b[0m\u001b[0m\n",
      "\u001b[0;31mNameError\u001b[0m: name 'dts' is not defined"
     ]
    }
   ],
   "source": [
    "from numpy import random\n",
    "zs = [t + random.randn()*4 for t in range (40)]\n",
    "Fs = [np.array([[1., dt], [0, 1]]) for dt in dts]\n",
    "\n",
    "(mu, cov, _, _) = kf.batch_filter(zs, Fs=Fs)"
   ]
  },
  {
   "cell_type": "code",
   "execution_count": null,
   "metadata": {},
   "outputs": [],
   "source": [
    "dim_z, X, P, A, Q, dt, R, H, B, U = preprocess(num_measured=1, measured_var=(10,4.5), covar=(500,49), \n",
    "                process_model=((1, 1), (0, 1)), white_noise_var=.35, dt=1, \n",
    "                sensor_covar=5, measurement_function=(1,0))"
   ]
  },
  {
   "cell_type": "code",
   "execution_count": 113,
   "metadata": {},
   "outputs": [],
   "source": [
    "#data = zedd\n",
    "def run_kf(data, dim_of_measurements, measured_var, covar, process_model, white_noise_var, dt, sensor_covar, measurement_function):\n",
    "    xs, cv = [], []\n",
    "    dim_z, X, P, A, Q, dt, R, H, B, U = preprocess(num_measured=dim_of_measurements, measured_var=measured_var, covar=covar, \n",
    "                process_model=process_model, white_noise_var=white_noise_var, dt=dt, \n",
    "                sensor_covar=sensor_covar, measurement_function=measurement_function)\n",
    "    kf = create_kf_and_assign_predict_update(dim_z, X, P, A, Q, dt, R, H, B, U)\n",
    "    \n",
    "    for i in data:\n",
    "        kf.predict()\n",
    "        kf.update(i)\n",
    "        \n",
    "        xs.append(kf.x)\n",
    "        cv.append(kf.P)\n",
    "        \n",
    "    xs, cv = np.array(xs), np.array(cv)\n",
    "    return xs,cv, kf"
   ]
  },
  {
   "cell_type": "code",
   "execution_count": 114,
   "metadata": {},
   "outputs": [],
   "source": [
    "xs,cv, kf = run_kf(data=zedd, dim_of_measurements=1, measured_var=(10,4.5), covar=(500,49), \n",
    "                process_model=((1, 1), (0, 1)), white_noise_var=.35, dt=1, \n",
    "                sensor_covar=5, measurement_function=(1,0))"
   ]
  },
  {
   "cell_type": "code",
   "execution_count": 115,
   "metadata": {},
   "outputs": [
    {
     "data": {
      "text/plain": [
       "[<matplotlib.lines.Line2D at 0x1214b27f0>]"
      ]
     },
     "execution_count": 115,
     "metadata": {},
     "output_type": "execute_result"
    },
    {
     "data": {
      "image/png": "[encoded data removed]",
      "text/plain": [
       "<Figure size 432x288 with 1 Axes>"
      ]
     },
     "metadata": {},
     "output_type": "display_data"
    }
   ],
   "source": [
    "plt.plot(range(1, len(zedd)+1), xs[:, 0], c ='r')\n",
    "#plt.plot(range(1, len(zedd)+1), zedd, 'o')\n",
    "plt.plot(range(1, len(zedd)+1), track, c='orange')"
   ]
  },
  {
   "cell_type": "code",
   "execution_count": 116,
   "metadata": {},
   "outputs": [],
   "source": [
    "(x, P, K, Pp) = kf.rts_smoother(Xs=xs, Ps=cv)"
   ]
  },
  {
   "cell_type": "code",
   "execution_count": 117,
   "metadata": {},
   "outputs": [
    {
     "data": {
      "text/plain": [
       "[<matplotlib.lines.Line2D at 0x12167fa90>]"
      ]
     },
     "execution_count": 117,
     "metadata": {},
     "output_type": "execute_result"
    },
    {
     "data": {
      "image/png": "[encoded data removed]",
      "text/plain": [
       "<Figure size 432x288 with 1 Axes>"
      ]
     },
     "metadata": {},
     "output_type": "display_data"
    }
   ],
   "source": [
    "plt.plot(range(1, len(x)+1), x[:, 0], c ='r')\n",
    "#plt.plot(range(1, len(zedd)+1), zedd, 'o')\n",
    "plt.plot(range(1, len(P)+1), track, c='orange')"
   ]
  },
  {
   "cell_type": "code",
   "execution_count": null,
   "metadata": {},
   "outputs": [],
   "source": []
  },
  {
   "cell_type": "code",
   "execution_count": 157,
   "metadata": {},
   "outputs": [],
   "source": [
    "from filterpy.stats import plot_covariance_ellipse"
   ]
  },
  {
   "cell_type": "code",
   "execution_count": 165,
   "metadata": {},
   "outputs": [
    {
     "data": {
      "text/plain": [
       "array([4.59786949, 0.44824382])"
      ]
     },
     "execution_count": 165,
     "metadata": {},
     "output_type": "execute_result"
    }
   ],
   "source": [
    "x[0]"
   ]
  },
  {
   "cell_type": "code",
   "execution_count": null,
   "metadata": {},
   "outputs": [],
   "source": []
  },
  {
   "cell_type": "code",
   "execution_count": 167,
   "metadata": {},
   "outputs": [
    {
     "data": {
      "image/png": "[encoded data removed]",
      "text/plain": [
       "<Figure size 432x288 with 1 Axes>"
      ]
     },
     "metadata": {},
     "output_type": "display_data"
    }
   ],
   "source": [
    "plot_covariance_ellipse(x[0],P[0],edgecolor='r')"
   ]
  },
  {
   "cell_type": "code",
   "execution_count": 176,
   "metadata": {},
   "outputs": [
    {
     "data": {
      "image/png": "[encoded data removed]",
      "text/plain": [
       "<Figure size 720x720 with 1 Axes>"
      ]
     },
     "metadata": {},
     "output_type": "display_data"
    }
   ],
   "source": [
    "from filterpy.stats import plot_covariance_ellipse\n",
    "%matplotlib inline\n",
    "plt.figure(figsize=((10,10)))\n",
    "plt.plot(range(1, len(x)+1),x[:, 0], c='r', label='Smoothed data')\n",
    "plt.plot(range(1, len(zedd)+1),zedd, '--o', c= 'g', label='Noisy Measurement')\n",
    "plt.plot(range(1, len(track)+1),track, '--o', c ='royalblue',label='True position')\n",
    "#plt.plot(range(1, len(x)+1), cv, c='r', label='Smoothed data')\n",
    "\n",
    "for i in range(len(P)):\n",
    "    plot_covariance_ellipse(x[i],P[i],edgecolor='r')\n",
    "    \n",
    "\n",
    "plt.legend()\n",
    "plt.title('RTS Smoother')\n",
    "plt.show()"
   ]
  },
  {
   "cell_type": "code",
   "execution_count": null,
   "metadata": {},
   "outputs": [],
   "source": []
  }
 ],
 "metadata": {
  "kernelspec": {
   "display_name": "Python 3",
   "language": "python",
   "name": "python3"
  },
  "language_info": {
   "codemirror_mode": {
    "name": "ipython",
    "version": 3
   },
   "file_extension": ".py",
   "mimetype": "text/x-python",
   "name": "python",
   "nbconvert_exporter": "python",
   "pygments_lexer": "ipython3",
   "version": "3.6.8"
  }
 },
 "nbformat": 4,
 "nbformat_minor": 2
}
